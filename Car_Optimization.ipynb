{
  "nbformat": 4,
  "nbformat_minor": 0,
  "metadata": {
    "colab": {
      "provenance": []
    },
    "kernelspec": {
      "name": "python3",
      "display_name": "Python 3"
    },
    "language_info": {
      "name": "python"
    }
  },
  "cells": [
    {
      "cell_type": "code",
      "execution_count": 1,
      "metadata": {
        "colab": {
          "base_uri": "https://localhost:8080/"
        },
        "id": "L_zDZyCFsJxM",
        "outputId": "fe6055af-a615-49ff-dc9a-3cf77143b103"
      },
      "outputs": [
        {
          "output_type": "stream",
          "name": "stdout",
          "text": [
            "\u001b[2K     \u001b[90m━━━━━━━━━━━━━━━━━━━━━━━━━━━━━━━━━━━━━━━━\u001b[0m \u001b[32m5.6/5.6 MB\u001b[0m \u001b[31m21.0 MB/s\u001b[0m eta \u001b[36m0:00:00\u001b[0m\n",
            "\u001b[?25h"
          ]
        }
      ],
      "source": [
        "!pip install -q amplpy ampltools pandas"
      ]
    },
    {
      "cell_type": "code",
      "source": [
        "MODULES, LICENSE_UUID = [\"coin\", 'gurobi', \"cplex\", \"highs\", \"gokestrel\"], \"6b31af08-ff1f-429f-ad0b-4bb913b68f75\"\n",
        "\n",
        "from amplpy import tools\n",
        "from ampltools import cloud_platform_name, ampl_notebook, register_magics\n",
        "\n",
        "if cloud_platform_name() is None:\n",
        "    ampl = AMPL()\n",
        "else:\n",
        "    ampl = tools.ampl_notebook(modules=MODULES, license_uuid=LICENSE_UUID, g=globals())\n",
        "\n",
        "register_magics(ampl_object=ampl)"
      ],
      "metadata": {
        "colab": {
          "base_uri": "https://localhost:8080/"
        },
        "id": "6mZkZ4Dqsn0M",
        "outputId": "4a17668a-34e5-4380-89c2-15b608117152"
      },
      "execution_count": 2,
      "outputs": [
        {
          "output_type": "stream",
          "name": "stdout",
          "text": [
            "Licensed to Bundle #6300.6669 expiring 20231231: INFO 645 Prescriptive Analytics, Prof. Paul Brooks, Virginia Commonwealth University.\n"
          ]
        }
      ]
    },
    {
      "cell_type": "code",
      "source": [
        "from google.colab import drive\n",
        "drive.mount('/content/drive')"
      ],
      "metadata": {
        "colab": {
          "base_uri": "https://localhost:8080/"
        },
        "id": "oGmbw_vSsp7T",
        "outputId": "5cfeb49b-732c-498e-8951-37f635433687"
      },
      "execution_count": 3,
      "outputs": [
        {
          "output_type": "stream",
          "name": "stdout",
          "text": [
            "Mounted at /content/drive\n"
          ]
        }
      ]
    },
    {
      "cell_type": "code",
      "source": [
        "import pandas as pd\n",
        "profit_data = pd.read_excel(\"/content/drive/MyDrive/645/Datasets/Car_Optimization.xlsx\",\n",
        "sheet_name=0, index_col=0)\n",
        "CarType = list(profit_data.index)\n",
        "Profit = profit_data.stack().to_dict()\n",
        "\n",
        "demand_data = pd.read_excel(\"/content/drive/MyDrive/645/Datasets/Car_Optimization.xlsx\",\n",
        "        sheet_name=1, index_col=0)\n",
        "CarClass = list(demand_data.index)\n",
        "MaxDemand = dict(zip(CarClass, demand_data[\"Demand\"]))\n",
        "\n",
        "supply_data = pd.read_excel(\"/content/drive/MyDrive/645/Datasets/Car_Optimization.xlsx\",\n",
        "        sheet_name=2, index_col=0)\n",
        "MaxCars = dict(zip(CarType, supply_data.Supply))"
      ],
      "metadata": {
        "id": "CTS-HdHAJJKq"
      },
      "execution_count": 4,
      "outputs": []
    },
    {
      "cell_type": "code",
      "source": [
        "ampl.eval ('''\n",
        "\n",
        "reset;\n",
        "\n",
        "set CarType;\n",
        "set CarClass;\n",
        "\n",
        "\n",
        "param MaxCars{i in CarType};\n",
        "param MaxDemand{j in CarClass};\n",
        "param Profit{i in CarType, j in CarClass};\n",
        "\n",
        "var x {i in CarType, j in CarClass} >= 0 integer;\n",
        "\n",
        "maximize profit_objective: sum{i in CarType, j in CarClass} Profit[i,j] * x[i,j];\n",
        "\n",
        "subject to\n",
        "Cars_available_constraint {i in CarType}: sum{j in CarClass} x[i,j] <= MaxCars[i];\n",
        "Cars_demand_constraint {j in CarClass}: sum{i in CarType} x[i,j] <= MaxDemand[j];\n",
        "min_cars_per_type_constraint{i in CarType, j in CarClass}: x[i,j] >= 5;\n",
        "\n",
        "\n",
        "''')"
      ],
      "metadata": {
        "id": "3jJWoVIbs5Xq"
      },
      "execution_count": 5,
      "outputs": []
    },
    {
      "cell_type": "code",
      "source": [
        "ampl.set['CarType'] = CarType\n",
        "ampl.set[\"CarClass\"] = CarClass\n",
        "\n",
        "ampl.param[\"MaxCars\"] = MaxCars\n",
        "ampl.param[\"MaxDemand\"] = MaxDemand\n",
        "ampl.param[\"Profit\"] = Profit"
      ],
      "metadata": {
        "id": "_3fmSuvlvj9q"
      },
      "execution_count": 6,
      "outputs": []
    },
    {
      "cell_type": "code",
      "source": [
        "ampl.setOption('solver', 'cbc')\n",
        "ampl.solve()"
      ],
      "metadata": {
        "colab": {
          "base_uri": "https://localhost:8080/"
        },
        "id": "in341YHDxJso",
        "outputId": "390edd66-34cc-4c3c-9ee5-ca88642fff82"
      },
      "execution_count": 7,
      "outputs": [
        {
          "output_type": "stream",
          "name": "stdout",
          "text": [
            "cbc 2.10.10: \b\b\b\b\b\b\b\b\b\b\b\b\bcbc 2.10.10: optimal solution; objective 10000\n",
            "0 simplex iterations\n",
            " \n"
          ]
        }
      ]
    },
    {
      "cell_type": "code",
      "source": [
        "ampl.eval('''expand;''')"
      ],
      "metadata": {
        "colab": {
          "base_uri": "https://localhost:8080/"
        },
        "id": "L1K7j6HOxMqz",
        "outputId": "f52edb29-e7a1-4263-f89e-48d9b1e55c47"
      },
      "execution_count": 8,
      "outputs": [
        {
          "output_type": "stream",
          "name": "stdout",
          "text": [
            "maximize profit_objective:\n",
            "\t12*x['Compact','Basic'] + 23*x['Compact','Premium'] + \n",
            "\t33*x['Compact','Ultra'] + 18*x['MidSize','Basic'] + \n",
            "\t27*x['MidSize','Premium'] + 39*x['MidSize','Ultra'] + \n",
            "\t25*x['SUV','Basic'] + 35*x['SUV','Premium'] + 48*x['SUV','Ultra'];\n",
            "\n",
            "subject to Cars_available_constraint['Compact']:\n",
            "\tx['Compact','Basic'] + x['Compact','Premium'] + x['Compact','Ultra']\n",
            "\t <= 140;\n",
            "\n",
            "subject to Cars_available_constraint['MidSize']:\n",
            "\tx['MidSize','Basic'] + x['MidSize','Premium'] + x['MidSize','Ultra']\n",
            "\t <= 150;\n",
            "\n",
            "subject to Cars_available_constraint['SUV']:\n",
            "\tx['SUV','Basic'] + x['SUV','Premium'] + x['SUV','Ultra'] <= 85;\n",
            "\n",
            "subject to Cars_demand_constraint['Basic']:\n",
            "\tx['Compact','Basic'] + x['MidSize','Basic'] + x['SUV','Basic'] <= 150;\n",
            "\n",
            "subject to Cars_demand_constraint['Premium']:\n",
            "\tx['Compact','Premium'] + x['MidSize','Premium'] + x['SUV','Premium']\n",
            "\t <= 120;\n",
            "\n",
            "subject to Cars_demand_constraint['Ultra']:\n",
            "\tx['Compact','Ultra'] + x['MidSize','Ultra'] + x['SUV','Ultra'] <= 100;\n",
            "\n",
            "subject to min_cars_per_type_constraint['Compact',\n",
            "\t'Basic']:\n",
            "\tx['Compact','Basic'] >= 5;\n",
            "\n",
            "subject to min_cars_per_type_constraint['Compact',\n",
            "\t'Premium']:\n",
            "\tx['Compact','Premium'] >= 5;\n",
            "\n",
            "subject to min_cars_per_type_constraint['Compact',\n",
            "\t'Ultra']:\n",
            "\tx['Compact','Ultra'] >= 5;\n",
            "\n",
            "subject to min_cars_per_type_constraint['MidSize',\n",
            "\t'Basic']:\n",
            "\tx['MidSize','Basic'] >= 5;\n",
            "\n",
            "subject to min_cars_per_type_constraint['MidSize',\n",
            "\t'Premium']:\n",
            "\tx['MidSize','Premium'] >= 5;\n",
            "\n",
            "subject to min_cars_per_type_constraint['MidSize',\n",
            "\t'Ultra']:\n",
            "\tx['MidSize','Ultra'] >= 5;\n",
            "\n",
            "subject to min_cars_per_type_constraint['SUV',\n",
            "\t'Basic']:\n",
            "\tx['SUV','Basic'] >= 5;\n",
            "\n",
            "subject to min_cars_per_type_constraint['SUV',\n",
            "\t'Premium']:\n",
            "\tx['SUV','Premium'] >= 5;\n",
            "\n",
            "subject to min_cars_per_type_constraint['SUV',\n",
            "\t'Ultra']:\n",
            "\tx['SUV','Ultra'] >= 5;\n",
            "\n"
          ]
        }
      ]
    },
    {
      "cell_type": "code",
      "source": [
        "object = ampl.get_objective('profit_objective')\n",
        "print(\"\\n\")\n",
        "print(\"Total Profit is: \", object.get().value(), \"\\n\")\n",
        "print(\"Optimal Car Allocation:\")\n",
        "ampl.display('x');"
      ],
      "metadata": {
        "colab": {
          "base_uri": "https://localhost:8080/"
        },
        "id": "pMsJsjH8xO3O",
        "outputId": "7fa7636d-5f94-4a94-9a65-4656b0194589"
      },
      "execution_count": 9,
      "outputs": [
        {
          "output_type": "stream",
          "name": "stdout",
          "text": [
            "\n",
            "\n",
            "Total Profit is:  10000.0 \n",
            "\n",
            "Optimal Car Allocation:\n",
            "x :=\n",
            "Compact Basic      20\n",
            "Compact Premium   110\n",
            "Compact Ultra       5\n",
            "MidSize Basic     125\n",
            "MidSize Premium     5\n",
            "MidSize Ultra      20\n",
            "SUV     Basic       5\n",
            "SUV     Premium     5\n",
            "SUV     Ultra      75\n",
            ";\n",
            "\n"
          ]
        }
      ]
    }
  ]
}